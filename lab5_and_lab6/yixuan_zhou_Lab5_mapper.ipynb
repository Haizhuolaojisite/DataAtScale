{
 "cells": [
  {
   "cell_type": "code",
   "execution_count": 21,
   "metadata": {},
   "outputs": [],
   "source": [
    "import json\n",
    "import pandas as pd\n",
    "import numpy as np"
   ]
  },
  {
   "cell_type": "markdown",
   "metadata": {},
   "source": [
    "# Lab 5\n",
    "\n",
    "### Preparation\n",
    "Download the sample data file fullweeklycoviddatajson.txt (its in Lab 6) from MyCourses. Upload the file to your JupyterLab folder\n",
    "\n",
    "Lab 5\n",
    "### **The objective of this lab is to produce a mapper**\n",
    "which generates data for a reducer which calculates the number of countries during week 2020-52 with a COVID rate in the following 5 internal [0-1],[1-5],[5-10],[10,50] and [50,infinity) \n",
    "\n",
    "1. Take the Mapper Example (its in Lab 6) and create a Python3 notebook using that same code\n",
    "\n",
    "2. Replace the input file with fullweeklycoviddatajson.txt\n",
    "\n",
    "3. Replace the output file with lab5mapperout.txt\n",
    "\n",
    "4. In the keyvaluemapper function,calculate a key depending on the value of the field <notification_rate_per_100000_population_14-days>:\n",
    "\n",
    "    \n",
    "    - if data[\"notification_rate_per_100000_population_14-days\"] <1 then key=\"INT0-1\" \n",
    "\n",
    "    - else if  data[\"notification_rate_per_100000_population_14-days\"] <5 then key=\"INT1-5\"\n",
    "\n",
    "    - etc....\n",
    "\n",
    "    - set the value to just {\"count\":1} as this record just represents one country, and the reducer just needs to calculate the number of countries\n",
    "\n",
    "    - call the mapperoutput only if data[\"year_week\"]==\"2020-52\"\n",
    "\n",
    "5. Execute\n",
    "\n",
    "6. Verify the result in lab5mapperout.txt"
   ]
  },
  {
   "cell_type": "code",
   "execution_count": 28,
   "metadata": {},
   "outputs": [
    {
     "name": "stdout",
     "output_type": "stream",
     "text": [
      "[{'dateRep': '28/12/2020', 'year_week': '2020-52', 'cases_weekly': 1994, 'deaths_weekly': 88, 'countriesAndTerritories': 'Afghanistan', 'geoId': 'AF', 'countryterritoryCode': 'AFG', 'popData2019': 38041757.0, 'continentExp': 'Asia', 'notification_rate_per_100000_population_14-days': 7.19}, {'dateRep': '21/12/2020', 'year_week': '2020-51', 'cases_weekly': 740, 'deaths_weekly': 111, 'countriesAndTerritories': 'Afghanistan', 'geoId': 'AF', 'countryterritoryCode': 'AFG', 'popData2019': 38041757.0, 'continentExp': 'Asia', 'notification_rate_per_100000_population_14-days': 6.56}]\n"
     ]
    },
    {
     "data": {
      "text/html": [
       "<div>\n",
       "<style scoped>\n",
       "    .dataframe tbody tr th:only-of-type {\n",
       "        vertical-align: middle;\n",
       "    }\n",
       "\n",
       "    .dataframe tbody tr th {\n",
       "        vertical-align: top;\n",
       "    }\n",
       "\n",
       "    .dataframe thead th {\n",
       "        text-align: right;\n",
       "    }\n",
       "</style>\n",
       "<table border=\"1\" class=\"dataframe\">\n",
       "  <thead>\n",
       "    <tr style=\"text-align: right;\">\n",
       "      <th></th>\n",
       "      <th>dateRep</th>\n",
       "      <th>year_week</th>\n",
       "      <th>cases_weekly</th>\n",
       "      <th>deaths_weekly</th>\n",
       "      <th>countriesAndTerritories</th>\n",
       "      <th>geoId</th>\n",
       "      <th>countryterritoryCode</th>\n",
       "      <th>popData2019</th>\n",
       "      <th>continentExp</th>\n",
       "      <th>notification_rate_per_100000_population_14-days</th>\n",
       "    </tr>\n",
       "  </thead>\n",
       "  <tbody>\n",
       "    <tr>\n",
       "      <th>9359</th>\n",
       "      <td>20/04/2020</td>\n",
       "      <td>2020-16</td>\n",
       "      <td>11</td>\n",
       "      <td>0</td>\n",
       "      <td>Zimbabwe</td>\n",
       "      <td>ZW</td>\n",
       "      <td>ZWE</td>\n",
       "      <td>14645473.0</td>\n",
       "      <td>Africa</td>\n",
       "      <td>0.11</td>\n",
       "    </tr>\n",
       "    <tr>\n",
       "      <th>9360</th>\n",
       "      <td>13/04/2020</td>\n",
       "      <td>2020-15</td>\n",
       "      <td>5</td>\n",
       "      <td>2</td>\n",
       "      <td>Zimbabwe</td>\n",
       "      <td>ZW</td>\n",
       "      <td>ZWE</td>\n",
       "      <td>14645473.0</td>\n",
       "      <td>Africa</td>\n",
       "      <td>0.05</td>\n",
       "    </tr>\n",
       "    <tr>\n",
       "      <th>9361</th>\n",
       "      <td>06/04/2020</td>\n",
       "      <td>2020-14</td>\n",
       "      <td>2</td>\n",
       "      <td>0</td>\n",
       "      <td>Zimbabwe</td>\n",
       "      <td>ZW</td>\n",
       "      <td>ZWE</td>\n",
       "      <td>14645473.0</td>\n",
       "      <td>Africa</td>\n",
       "      <td>0.05</td>\n",
       "    </tr>\n",
       "    <tr>\n",
       "      <th>9362</th>\n",
       "      <td>30/03/2020</td>\n",
       "      <td>2020-13</td>\n",
       "      <td>5</td>\n",
       "      <td>1</td>\n",
       "      <td>Zimbabwe</td>\n",
       "      <td>ZW</td>\n",
       "      <td>ZWE</td>\n",
       "      <td>14645473.0</td>\n",
       "      <td>Africa</td>\n",
       "      <td>0.05</td>\n",
       "    </tr>\n",
       "    <tr>\n",
       "      <th>9363</th>\n",
       "      <td>23/03/2020</td>\n",
       "      <td>2020-12</td>\n",
       "      <td>2</td>\n",
       "      <td>0</td>\n",
       "      <td>Zimbabwe</td>\n",
       "      <td>ZW</td>\n",
       "      <td>ZWE</td>\n",
       "      <td>14645473.0</td>\n",
       "      <td>Africa</td>\n",
       "      <td>NaN</td>\n",
       "    </tr>\n",
       "  </tbody>\n",
       "</table>\n",
       "</div>"
      ],
      "text/plain": [
       "         dateRep year_week  cases_weekly  deaths_weekly  \\\n",
       "9359  20/04/2020   2020-16            11              0   \n",
       "9360  13/04/2020   2020-15             5              2   \n",
       "9361  06/04/2020   2020-14             2              0   \n",
       "9362  30/03/2020   2020-13             5              1   \n",
       "9363  23/03/2020   2020-12             2              0   \n",
       "\n",
       "     countriesAndTerritories geoId countryterritoryCode  popData2019  \\\n",
       "9359                Zimbabwe    ZW                  ZWE   14645473.0   \n",
       "9360                Zimbabwe    ZW                  ZWE   14645473.0   \n",
       "9361                Zimbabwe    ZW                  ZWE   14645473.0   \n",
       "9362                Zimbabwe    ZW                  ZWE   14645473.0   \n",
       "9363                Zimbabwe    ZW                  ZWE   14645473.0   \n",
       "\n",
       "     continentExp  notification_rate_per_100000_population_14-days  \n",
       "9359       Africa                                             0.11  \n",
       "9360       Africa                                             0.05  \n",
       "9361       Africa                                             0.05  \n",
       "9362       Africa                                             0.05  \n",
       "9363       Africa                                              NaN  "
      ]
     },
     "execution_count": 28,
     "metadata": {},
     "output_type": "execute_result"
    }
   ],
   "source": [
    "# Exploring input data\n",
    "inputs = []\n",
    "with open('fullweeklycoviddatajson.txt') as f:\n",
    "    for i,line in enumerate(f):\n",
    "        row_data = json.loads(line)\n",
    "        inputs.append(row_data)\n",
    "\n",
    "print(inputs[0:2])\n",
    "input_df = pd.DataFrame(inputs)\n",
    "input_df.tail()"
   ]
  },
  {
   "cell_type": "code",
   "execution_count": 32,
   "metadata": {},
   "outputs": [],
   "source": [
    "# read data from txt file\n",
    "finput=open('fullweeklycoviddatajson.txt','r')\n",
    "# output sorted result from mapper to the txt file as below\n",
    "foutput=open('lab5mapperout.txt','w')"
   ]
  },
  {
   "cell_type": "markdown",
   "metadata": {},
   "source": [
    "## Mapper Output Function"
   ]
  },
  {
   "cell_type": "code",
   "execution_count": 33,
   "metadata": {},
   "outputs": [],
   "source": [
    "def mapperoutput(key,value):\n",
    "    dataline=key+\"\\t\"+json.dumps(value)+\"\\n\"\n",
    "    foutput.write(dataline)"
   ]
  },
  {
   "cell_type": "markdown",
   "metadata": {},
   "source": [
    "## KeyValue Mapper function"
   ]
  },
  {
   "cell_type": "code",
   "execution_count": 34,
   "metadata": {},
   "outputs": [],
   "source": [
    "# call this function for each JSON line\n",
    "def keyvaluemapper(data):\n",
    "    #print(data)\n",
    "    i = data[\"notification_rate_per_100000_population_14-days\"]\n",
    "    # because the key column contains some NaN, here I assume skip NaN\n",
    "    if i is None:  \n",
    "        key = \"INT-NaN\"\n",
    "    # for interval [0-1],[1-5],[5-10],[10,50] and [50,infinity)\n",
    "    elif i <1:\n",
    "        key = \"INT0-1\"\n",
    "    elif i <5:\n",
    "        key = \"INT1-5\"\n",
    "    elif i <10:\n",
    "        key = \"INT5-10\"\n",
    "    elif i <50:\n",
    "        key = \"INT10-50\"\n",
    "    else:\n",
    "        key = \"INT50-inf\"\n",
    "\n",
    "    value = {\"count\":1}\n",
    "\n",
    "    # Only pass/call the mapperoutput only if data[\"year_week\"]==\"2020-52\"\n",
    "    #we have the value and the key and can pass it to the mapperoutput\n",
    "    if data[\"year_week\"]==\"2020-52\":\n",
    "        mapperoutput(key,value)\n"
   ]
  },
  {
   "cell_type": "markdown",
   "metadata": {},
   "source": [
    "## RecordReader Function"
   ]
  },
  {
   "cell_type": "code",
   "execution_count": 35,
   "metadata": {},
   "outputs": [],
   "source": [
    "# call this function for each line in the txt file\n",
    "def recordreader(line):\n",
    "    #in our case, each line is already a JSON object so we just need \n",
    "    # to convert from text to JSON\n",
    "    data=json.loads(line)\n",
    "    \n",
    "    #we have now the data and can pass it to the keyvalue mapper\n",
    "    keyvaluemapper(data)"
   ]
  },
  {
   "cell_type": "markdown",
   "metadata": {},
   "source": [
    "##  input splitter"
   ]
  },
  {
   "cell_type": "code",
   "execution_count": 36,
   "metadata": {},
   "outputs": [],
   "source": [
    "#we read line by line\n",
    "for line in finput:\n",
    "    #here now line is our record and we can do things with it\n",
    "    if (line!=\"\"):\n",
    "        recordreader(line)\n",
    "finput.close()\n",
    "foutput.close()"
   ]
  },
  {
   "cell_type": "markdown",
   "metadata": {},
   "source": [
    "## sort the output file. The result will be in a file called lab5mapperout_sorted.txt"
   ]
  },
  {
   "cell_type": "code",
   "execution_count": 37,
   "metadata": {},
   "outputs": [],
   "source": [
    "! sort < lab5mapperout.txt > lab5mapperout_sorted.txt"
   ]
  },
  {
   "cell_type": "code",
   "execution_count": null,
   "metadata": {},
   "outputs": [],
   "source": []
  }
 ],
 "metadata": {
  "instance_type": "ml.t3.medium",
  "kernelspec": {
   "display_name": "Python 3 (Data Science)",
   "language": "python",
   "name": "python3__SAGEMAKER_INTERNAL__arn:aws:sagemaker:us-east-1:081325390199:image/datascience-1.0"
  },
  "language_info": {
   "codemirror_mode": {
    "name": "ipython",
    "version": 3
   },
   "file_extension": ".py",
   "mimetype": "text/x-python",
   "name": "python",
   "nbconvert_exporter": "python",
   "pygments_lexer": "ipython3",
   "version": "3.7.10"
  }
 },
 "nbformat": 4,
 "nbformat_minor": 4
}
