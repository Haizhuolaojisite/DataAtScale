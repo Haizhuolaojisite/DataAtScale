{
 "cells": [
  {
   "cell_type": "markdown",
   "id": "a729c752",
   "metadata": {},
   "source": [
    "# Mapper with Sort (Lab 6)"
   ]
  },
  {
   "cell_type": "markdown",
   "id": "43dbc505",
   "metadata": {},
   "source": [
    "This is a mapper followed by a sort operation for Lab 6. We will use the fullweeklycoviddatajson.txt file as input which is a file with JSON objects per line The objective of this lab is to produce a mapper which generates data for a reducer which calculates a 2 week total rolling number of cases and deaths per country.\n",
    "\n",
    "We go through all the lines and then Input Splitter -> RecordReader -> KeyValueMapper -> MapperOutput -> Sort\n",
    "\n",
    "The functions of the mapper are defined in reverse order as they need to exist before they are called by Python"
   ]
  },
  {
   "cell_type": "code",
   "execution_count": 9,
   "id": "1bf7efc6",
   "metadata": {},
   "outputs": [],
   "source": [
    "# we need also to import json to deal with that format\n",
    "import json"
   ]
  },
  {
   "cell_type": "code",
   "execution_count": 10,
   "id": "ea07558e",
   "metadata": {},
   "outputs": [],
   "source": [
    "# Here we define where the data is coming from and where it is going\n",
    "finput=open('fullweeklycoviddatajson.txt','r')\n",
    "foutput=open('fullweeklycoviddatajson_mappedlab6.txt','w')"
   ]
  },
  {
   "cell_type": "markdown",
   "id": "62421528",
   "metadata": {},
   "source": [
    "This is the MapperOutput"
   ]
  },
  {
   "cell_type": "code",
   "execution_count": 11,
   "id": "5c64f49d",
   "metadata": {},
   "outputs": [],
   "source": [
    "def mapperoutput(key,value):\n",
    "    #we build a line with 2 columns \\t is a tab sign and \\n is a new line sign\n",
    "    dataline=key+\"\\t\"+json.dumps(value)+\"\\n\"\n",
    "    foutput.write(dataline)"
   ]
  },
  {
   "cell_type": "markdown",
   "id": "bf663f15",
   "metadata": {},
   "source": [
    "This is the KeyValue Mapper function"
   ]
  },
  {
   "cell_type": "code",
   "execution_count": 12,
   "id": "cee415df",
   "metadata": {},
   "outputs": [],
   "source": [
    "def keyvaluemapper(data):\n",
    "    #The key being the year, we can find it as the \n",
    "    # first 4 characters of the year_week field\n",
    "    year=int(data[\"year_week\"][0:4])\n",
    "    week=int(data[\"year_week\"][5:7])\n",
    "    \n",
    "    key1=data[\"countriesAndTerritories\"]+\"#\"+str(week)\n",
    "    value1={\n",
    "        \"cases\":data[\"cases_weekly\"],\n",
    "        \"deaths\":data[\"deaths_weekly\"],\n",
    "        \"country\":data[\"countriesAndTerritories\"],\n",
    "        \"week\":week\n",
    "    }\n",
    "    \n",
    "    key2=data[\"countriesAndTerritories\"]+\"#\"+str(week+1)\n",
    "    value2={\n",
    "        \"cases\":data[\"cases_weekly\"],\n",
    "        \"deaths\":data[\"deaths_weekly\"],\n",
    "        \"country\":data[\"countriesAndTerritories\"],\n",
    "        \"week\":week+1\n",
    "    }\n",
    "    \n",
    "    #we have the value and the key and can pass it to the mapperoutput\n",
    "    if (week>1):\n",
    "        mapperoutput(key1,value1)\n",
    "    if (week<52):\n",
    "        mapperoutput(key2,value2)"
   ]
  },
  {
   "cell_type": "markdown",
   "id": "fb89f619",
   "metadata": {},
   "source": [
    "This is the RecordReader"
   ]
  },
  {
   "cell_type": "code",
   "execution_count": 13,
   "id": "f61d5f3f",
   "metadata": {},
   "outputs": [],
   "source": [
    "def recordreader(line):\n",
    "    #in our case, each line is already a JSON object so we just need \n",
    "    # to convert from text to JSON\n",
    "    data=json.loads(line)\n",
    "    \n",
    "    #we have now the data and can pass it to the keyvalue mapper\n",
    "    keyvaluemapper(data)"
   ]
  },
  {
   "cell_type": "markdown",
   "id": "0ea321ae",
   "metadata": {},
   "source": [
    "This is the input splitter"
   ]
  },
  {
   "cell_type": "code",
   "execution_count": 14,
   "id": "1e0ba52c",
   "metadata": {},
   "outputs": [],
   "source": [
    "#we read line by line\n",
    "for line in finput:\n",
    "    #here now line is our record and we can do things with it\n",
    "    if (line!=\"\"):\n",
    "        recordreader(line)\n",
    "finput.close()\n",
    "foutput.close()"
   ]
  },
  {
   "cell_type": "markdown",
   "id": "f9aee358",
   "metadata": {},
   "source": [
    "We need to sort the output file. The result will be in a file called fullweeklycoviddatajson_mappedlab6_sorted.txt"
   ]
  },
  {
   "cell_type": "code",
   "execution_count": null,
   "id": "535dd1a2",
   "metadata": {},
   "outputs": [],
   "source": [
    "! sort < fullweeklycoviddatajson_mappedlab6.txt > fullweeklycoviddatajson_mappedlab6_sorted.txt"
   ]
  },
  {
   "cell_type": "code",
   "execution_count": null,
   "id": "d5baf3bc",
   "metadata": {},
   "outputs": [],
   "source": []
  }
 ],
 "metadata": {
  "kernelspec": {
   "display_name": "conda_python3",
   "language": "python",
   "name": "conda_python3"
  },
  "language_info": {
   "codemirror_mode": {
    "name": "ipython",
    "version": 3
   },
   "file_extension": ".py",
   "mimetype": "text/x-python",
   "name": "python",
   "nbconvert_exporter": "python",
   "pygments_lexer": "ipython3",
   "version": "3.6.13"
  }
 },
 "nbformat": 4,
 "nbformat_minor": 5
}
