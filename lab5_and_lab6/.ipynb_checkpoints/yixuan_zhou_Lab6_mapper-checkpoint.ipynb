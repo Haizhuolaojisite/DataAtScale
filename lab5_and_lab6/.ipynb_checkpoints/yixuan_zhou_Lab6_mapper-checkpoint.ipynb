{
 "cells": [
  {
   "cell_type": "markdown",
   "metadata": {},
   "source": [
    "# Lab 6\n",
    "Preparation\n",
    "Download the sample data file **fullweeklycoviddatajson.txt** from MyCourses. Upload the file to your JupyterLab folder\n",
    "\n",
    "Lab\n",
    "The objective of this lab is to produce a mapper which generates data for a reducer which calculates a 2 week total rolling number of cases and deaths per country.\n",
    "\n",
    "The overall idea is that a record for a given week n also needs to be used for the week n+1 as the reducer will need those 2 weeks. So we need to output a record for the year_week and the year_week+1\n",
    "\n",
    "1. Take the Mapper Example and create a Python3 notebook using that same code\n",
    "\n",
    "2. Replace the input file with fullweeklycoviddatajson.txt\n",
    "\n",
    "3. Replace the output file with lab6mapperout.txt\n",
    "\n",
    "4. In the keyvaluemapper function\n",
    "- Extract the year=data[\"year_week\"][0:4]\n",
    "- Extract the week = int(data[\"year_week\"][5:7])\n",
    "- calculate key1=countryname + week\n",
    "- calculate key2=countryname+(week+1)\n",
    "- set the value1 to a JSON object to contain deaths and cases and week\n",
    "- set the value2 to a JSON object to contain deaths and cases and (week+1)\n",
    "- call the mapperoutput for key1 and value1\n",
    "- if (week+1<=52) call the mapperoutput for key2 and value2 also\n",
    "\n",
    "5. Execute\n",
    "\n",
    "6. Verify the result in lab6mapperout.txt that the file contains for each country and each week 2 lines"
   ]
  },
  {
   "cell_type": "code",
   "execution_count": 2,
   "metadata": {},
   "outputs": [],
   "source": [
    "import json"
   ]
  },
  {
   "cell_type": "code",
   "execution_count": 3,
   "metadata": {},
   "outputs": [],
   "source": [
    "# Here we define where the data is coming from and where it is going\n",
    "finput=open('fullweeklycoviddatajson.txt','r')\n",
    "foutput=open('lab6mapperout.txt','w')"
   ]
  },
  {
   "cell_type": "code",
   "execution_count": 4,
   "metadata": {},
   "outputs": [],
   "source": [
    "def mapperoutput(key,value):\n",
    "    #we build a line with 2 columns \\t is a tab sign and \\n is a new line sign\n",
    "    dataline=key+\"\\t\"+json.dumps(value)+\"\\n\"\n",
    "    foutput.write(dataline)"
   ]
  },
  {
   "cell_type": "code",
   "execution_count": 5,
   "metadata": {},
   "outputs": [],
   "source": [
    "def keyvaluemapper(data):\n",
    "    #The key being the year, we can find it as the \n",
    "    # first 4 characters of the year_week field\n",
    "    year=int(data[\"year_week\"][0:4])\n",
    "    week=int(data[\"year_week\"][5:7])\n",
    "    \n",
    "    key1=data[\"countriesAndTerritories\"]+\"#\"+str(week)\n",
    "    value1={\n",
    "        \"cases\":data[\"cases_weekly\"],\n",
    "        \"deaths\":data[\"deaths_weekly\"],\n",
    "        \"week\":week\n",
    "    }\n",
    "    \n",
    "    key2=data[\"countriesAndTerritories\"]+\"#\"+str(week+1)\n",
    "    value2={\n",
    "        \"cases\":data[\"cases_weekly\"],\n",
    "        \"deaths\":data[\"deaths_weekly\"],\n",
    "        \"week\":week+1\n",
    "    }\n",
    "    \n",
    "    #we have the value and the key and can pass it to the mapperoutput\n",
    "    if (week>1):\n",
    "        mapperoutput(key1,value1)\n",
    "    if (week<52):\n",
    "        mapperoutput(key2,value2)"
   ]
  },
  {
   "cell_type": "code",
   "execution_count": 6,
   "metadata": {},
   "outputs": [],
   "source": [
    "def recordreader(line):\n",
    "    #in our case, each line is already a JSON object so we just need \n",
    "    # to convert from text to JSON\n",
    "    data=json.loads(line)\n",
    "    \n",
    "    #we have now the data and can pass it to the keyvalue mapper\n",
    "    keyvaluemapper(data)"
   ]
  },
  {
   "cell_type": "code",
   "execution_count": 7,
   "metadata": {},
   "outputs": [],
   "source": [
    "#we read line by line\n",
    "for line in finput:\n",
    "    #here now line is our record and we can do things with it\n",
    "    if (line!=\"\"):\n",
    "        recordreader(line)\n",
    "finput.close()\n",
    "foutput.close()"
   ]
  },
  {
   "cell_type": "code",
   "execution_count": 8,
   "metadata": {},
   "outputs": [],
   "source": [
    "! sort < lab6mapperout.txt > lab6mapperout_sorted.txt"
   ]
  },
  {
   "cell_type": "code",
   "execution_count": null,
   "metadata": {},
   "outputs": [],
   "source": []
  }
 ],
 "metadata": {
  "instance_type": "ml.t3.medium",
  "kernelspec": {
   "display_name": "Python 3 (Data Science)",
   "language": "python",
   "name": "python3__SAGEMAKER_INTERNAL__arn:aws:sagemaker:us-east-1:081325390199:image/datascience-1.0"
  },
  "language_info": {
   "codemirror_mode": {
    "name": "ipython",
    "version": 3
   },
   "file_extension": ".py",
   "mimetype": "text/x-python",
   "name": "python",
   "nbconvert_exporter": "python",
   "pygments_lexer": "ipython3",
   "version": "3.7.10"
  }
 },
 "nbformat": 4,
 "nbformat_minor": 4
}
